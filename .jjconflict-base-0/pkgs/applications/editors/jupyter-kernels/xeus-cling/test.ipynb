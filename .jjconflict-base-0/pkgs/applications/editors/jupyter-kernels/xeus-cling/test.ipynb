{
 "cells": [
  {
   "cell_type": "code",
   "execution_count": 1,
   "id": "574ed398-7bfe-4a34-a7dd-9fa85535aed2",
   "metadata": {},
   "outputs": [],
   "source": [
    "#include <iostream>\n",
    "std::cout << \"Hello world.\";"
   ]
  }
 ],
 "metadata": {
  "kernelspec": {
   "display_name": "C++ 17",
   "language": "cpp",
   "name": "cpp17"
  }
 },
 "nbformat": 4,
 "nbformat_minor": 5
}

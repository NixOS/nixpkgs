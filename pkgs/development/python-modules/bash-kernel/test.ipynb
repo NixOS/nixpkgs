{
  "cells": [
    {
      "cell_type": "code",
      "execution_count": null,
      "metadata": {},
      "outputs": [],
      "source": [
        "echo hi"
      ]
    }
  ],
  "metadata": {
    "kernel_info": {
      "display_name": "Unknown",
      "name": "bash"
    },
    "language_info": {
      "file_extension": ".ipynb",
      "name": "bash",
      "version": "5.0"
    }
  },
  "nbformat": 4,
  "nbformat_minor": 2
}
